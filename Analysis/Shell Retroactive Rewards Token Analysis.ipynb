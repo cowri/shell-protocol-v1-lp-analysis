{
 "cells": [
  {
   "cell_type": "markdown",
   "id": "b2136f61",
   "metadata": {},
   "source": [
    "# Liquidity Token Analysis"
   ]
  },
  {
   "cell_type": "markdown",
   "id": "fcb79db6",
   "metadata": {},
   "source": [
    "## Code\n",
    "\n",
    "### The code consists of three main parts:\n",
    "- Defined queries: the queries that are called to the subgraph (each query is an entity)\n",
    "- Update data functions: functions that call the subgraph and append the new data read to the current dataframes.\n",
    "- Data manipulation/analysis functions: functions that manipulate the data to make desired calculations. \n",
    "\n",
    "### Instructions: Run the first 4 cells"
   ]
  },
  {
   "cell_type": "code",
   "execution_count": null,
   "id": "9ca7a836",
   "metadata": {},
   "outputs": [],
   "source": [
    "# Import the required libraries\n",
    "import pandas as pd\n",
    "import json\n",
    "import requests\n",
    "import pprint\n",
    "from datetime import datetime\n",
    "import matplotlib.pyplot as plt\n",
    "import seaborn as sns\n",
    "import numpy as np\n",
    "from matplotlib.ticker import StrMethodFormatter\n",
    "import warnings\n",
    "from pandas.core.common import SettingWithCopyWarning\n",
    "warnings.simplefilter(action=\"ignore\", category=SettingWithCopyWarning)"
   ]
  },
  {
   "cell_type": "code",
   "execution_count": null,
   "id": "9eca7673",
   "metadata": {},
   "outputs": [],
   "source": [
    "\n",
    "def defineUsersQuery(usersCount):\n",
    "    usersQuery = '''\n",
    "    {\n",
    "      users (orderDirection: asc, first: 1000, skip: ''' + str(usersCount) + ''') {\n",
    "        id\n",
    "        usdSwapped\n",
    "      }\n",
    "    }\n",
    "    '''\n",
    "    return usersQuery\n",
    "\n",
    "def defineShellTransfersQuery(transfersCount):\n",
    "    shellTransfersQuery = '''\n",
    "    {\n",
    "      shellTransfers (orderDirection: asc, first: 1000, skip: ''' + str(transfersCount) + ''') {\n",
    "        id\n",
    "        timestamp\n",
    "        block\n",
    "        shellsTransfered\n",
    "        from\n",
    "        to\n",
    "      }\n",
    "    }\n",
    "    '''\n",
    "    return shellTransfersQuery\n",
    "\n",
    "def defineDepositsQuery(depositsCount):\n",
    "    depositsQuery = '''\n",
    "    {\n",
    "      deposits (orderDirection: asc, first: 1000, skip: ''' + str(depositsCount) + ''') {\n",
    "        id\n",
    "        timestamp\n",
    "        block\n",
    "        shellsMinted\n",
    "        user {\n",
    "          id\n",
    "        }\n",
    "      }\n",
    "    }\n",
    "    '''\n",
    "    return depositsQuery\n",
    "\n",
    "def defineWithdrawalsQuery(withdrawalsCount):\n",
    "    withdrawalsQuery = '''\n",
    "    {\n",
    "      withdrawals (orderDirection: asc, first: 1000, skip: ''' + str(withdrawalsCount) + ''') {\n",
    "        id\n",
    "        timestamp\n",
    "        block\n",
    "        shellsBurnt\n",
    "        user {\n",
    "          id\n",
    "        }\n",
    "      }\n",
    "    }\n",
    "    '''\n",
    "    return withdrawalsQuery\n",
    "\n",
    "def getUser(x):\n",
    "    return x['id']\n",
    "\n",
    "def getCounts(x):\n",
    "    return len(x)\n",
    "\n",
    "def convertToDate(x):\n",
    "    date = datetime.fromtimestamp(int(x)).date()\n",
    "    day = date.day\n",
    "    month = date.month\n",
    "    if date.month < 10:\n",
    "        month = '0'+str(date.month)\n",
    "    if date.day < 10:\n",
    "        day = '0'+str(date.day)\n",
    "    date = f'{date.year}-{month}-{day}'\n",
    "    return date"
   ]
  },
  {
   "cell_type": "code",
   "execution_count": null,
   "id": "b3358f0d",
   "metadata": {},
   "outputs": [],
   "source": [
    "def updateUserData(dataFrame, url):\n",
    "    while True:\n",
    "        count = len(dataFrame)\n",
    "        query = defineUsersQuery(count)\n",
    "        users = json.loads(requests.post(url, json={'query': query}).text)['data']['users']\n",
    "        dataFrame = dataFrame.append(pd.DataFrame(users))\n",
    "        if users == []:\n",
    "            break\n",
    "    return dataFrame.reset_index().drop(columns=['index'])\n",
    "\n",
    "\n",
    "def updateShellTransfersData(dataFrame, url):\n",
    "    while True:\n",
    "        count = len(dataFrame)\n",
    "        query = defineShellTransfersQuery(count)\n",
    "        transfers = json.loads(requests.post(url, json={'query': query}).text)['data']['shellTransfers']\n",
    "        if transfers == []:\n",
    "            break\n",
    "        newDF = pd.DataFrame(transfers)\n",
    "        newDF['shellsTransfered'] = newDF['shellsTransfered'].astype(float)\n",
    "        #newDF['date'] = newDF['timestamp'].apply(convertToDate)\n",
    "        dataFrame = dataFrame.append(newDF)\n",
    "    return dataFrame.reset_index().drop(columns=['index'])\n",
    "\n",
    "    \n",
    "def updateWithdrawalsData(dataFrame, url):\n",
    "    while True:\n",
    "        count = len(dataFrame)\n",
    "        query = defineWithdrawalsQuery(count)\n",
    "        withdrawals = json.loads(requests.post(url, json={'query': query}).text)['data']['withdrawals']\n",
    "        if withdrawals == []:\n",
    "            break\n",
    "        newDF = pd.DataFrame(withdrawals)\n",
    "        newDF['user'] = newDF['user'].apply(getUser)\n",
    "        newDF['shellsBurnt'] = newDF['shellsBurnt'].astype(float)\n",
    "        #newDF['date'] = newDF['timestamp'].apply(convertToDate)\n",
    "        dataFrame = dataFrame.append(newDF)\n",
    "    return dataFrame.reset_index().drop(columns=['index'])\n",
    "\n",
    "\n",
    "def updateDepositsData(dataFrame, url):\n",
    "    while True:\n",
    "        count = len(dataFrame)\n",
    "        query = defineDepositsQuery(count)\n",
    "        deposits = json.loads(requests.post(url, json={'query': query}).text)['data']['deposits']\n",
    "        if deposits == []:\n",
    "            break\n",
    "        newDF = pd.DataFrame(deposits)\n",
    "        newDF['user'] = newDF['user'].apply(getUser)\n",
    "        newDF['shellsMinted'] = newDF['shellsMinted'].astype(float)\n",
    "        #newDF['date'] = newDF['timestamp'].apply(convertToDate)\n",
    "        dataFrame = dataFrame.append(newDF)\n",
    "    return dataFrame.reset_index().drop(columns=['index'])"
   ]
  },
  {
   "cell_type": "code",
   "execution_count": null,
   "id": "30d6e6fd",
   "metadata": {},
   "outputs": [],
   "source": [
    "def createWithdrawalsVsDepositsChart(_withdrawalsDF, _depositsDF, poolStartDate, poolEndDate):\n",
    "    w = _withdrawalsDF.drop(columns=['id', 'block', 'user'])\n",
    "    w['date'] = w['timestamp'].apply(convertToDate)\n",
    "    w = w[(w['date']>=poolStartDate)&(w['date']<=poolEndDate)]\n",
    "    w = w.drop(columns=['timestamp'])\n",
    "    w = w.groupby(['date']).sum()\n",
    "    \n",
    "    d = _depositsDF.drop(columns=['id', 'block', 'user'])\n",
    "    d['date'] = d['timestamp'].apply(convertToDate)\n",
    "    d = d[(d['date']>=poolStartDate)&(d['date']<=poolEndDate)]\n",
    "    d = d.drop(columns=['timestamp'])\n",
    "    d = d.groupby(['date']).sum()\n",
    "    \n",
    "    idx = pd.DataFrame()\n",
    "    idx['date'] = pd.date_range(poolStartDate, poolEndDate)\n",
    "    idx['date'] = idx['date'].astype(str).str[:10]\n",
    "    \n",
    "    merged = pd.merge(idx, w, on='date', how='outer')\n",
    "    merged = pd.merge(merged, d, on='date', how='outer')\n",
    "    merged['shellsMinted'] = merged['shellsMinted'].fillna(0)\n",
    "    merged['shellsBurnt'] = merged['shellsBurnt'].fillna(0)\n",
    "    merged = merged.set_index('date')\n",
    "    merged['shellsBurnt'] = merged['shellsBurnt'].rolling(30).mean()\n",
    "    merged['shellsMinted'] = merged['shellsMinted'].rolling(30).mean()\n",
    "    \n",
    "    sns.set(font_scale=1.4)\n",
    "    merged.plot(figsize=(12, 10), linewidth=2.5)\n",
    "    plt.gca().get_lines()[0].set_color(\"green\")\n",
    "    plt.gca().get_lines()[1].set_color(\"red\")\n",
    "    ax = plt.gca()\n",
    "    leg = ax.get_legend()\n",
    "    leg.legendHandles[0].set_color('red')\n",
    "    leg.legendHandles[1].set_color('green')\n",
    "    plt.xlabel(\"Date\", labelpad=15)\n",
    "    plt.xticks(rotation=30)\n",
    "    plt.ylabel(\"Shells Movement\", labelpad=15)\n",
    "    ax.yaxis.set_major_formatter(StrMethodFormatter('{x:,.0f}'))\n",
    "    plt.title(\"Shells Movement Over Time (30-day Moving Average)\", y=1.02, fontsize=22)\n",
    "    \n",
    "    \n",
    "def createShellsSupplyChart(_withdrawalsDF, _depositsDF, poolStartDate, poolEndDate):\n",
    "    w = _withdrawalsDF.drop(columns=['id', 'block', 'user'])\n",
    "    w['date'] = w['timestamp'].apply(convertToDate)\n",
    "    w = w[(w['date']>=poolStartDate)&(w['date']<=poolEndDate)]\n",
    "    w = w.drop(columns=['timestamp'])\n",
    "    w = w.groupby(['date']).sum()\n",
    "    \n",
    "    d = _depositsDF.drop(columns=['id', 'block', 'user'])\n",
    "    d['date'] = d['timestamp'].apply(convertToDate)\n",
    "    d = d[(d['date']>=poolStartDate)&(d['date']<=poolEndDate)]\n",
    "    d = d.drop(columns=['timestamp'])\n",
    "    d = d.groupby(['date']).sum()\n",
    "    \n",
    "    idx = pd.DataFrame()\n",
    "    idx['date'] = pd.date_range(poolStartDate, poolEndDate)\n",
    "    idx['date'] = idx['date'].astype(str).str[:10]\n",
    "    \n",
    "    merged = pd.merge(idx, w, on='date', how='outer')\n",
    "    merged = pd.merge(merged, d, on='date', how='outer')\n",
    "    merged['shellsMinted'] = merged['shellsMinted'].fillna(0)\n",
    "    merged['shellsBurnt'] = merged['shellsBurnt'].fillna(0)\n",
    "    merged['runningSumMints'] = merged['shellsMinted'].cumsum()\n",
    "    merged['runningSumBurns'] = merged['shellsBurnt'].cumsum()\n",
    "    merged['shellSupply'] = merged['runningSumMints'] - merged['runningSumBurns']\n",
    "    merged = merged.drop(columns=['shellsBurnt', 'shellsMinted', 'runningSumBurns', 'runningSumMints'])\n",
    "    merged = merged.set_index('date')\n",
    "    \n",
    "    sns.set(font_scale=1.4)\n",
    "    merged.plot(figsize=(12, 10), linewidth=2.5, color='blue')\n",
    "    plt.xlabel(\"Date\", labelpad=15)\n",
    "    plt.xticks(rotation=30)\n",
    "    plt.ylabel(\"Shell Supply\", labelpad=15)\n",
    "    plt.gca().yaxis.set_major_formatter(StrMethodFormatter('{x:,.0f}'))\n",
    "    plt.title(\"Shell Supply Over Time\", y=1.02, fontsize=22)\n",
    "    \n",
    "    \n",
    "def getTransferedShellsOverTime(_shellTransfersDF, poolStartDate, poolEndDate):\n",
    "    t = _shellTransfersDF[(_shellTransfersDF['to']!='0x000000000000000000000000000000000000dead')]\n",
    "    t['date'] = t['timestamp'].apply(convertToDate)\n",
    "    t = t[(t['date']>=poolStartDate)&(t['date']<=poolEndDate)]\n",
    "    t = t.drop(columns=['id', 'block', 'from', 'to', 'timestamp'])\n",
    "    \n",
    "    idx = pd.DataFrame()\n",
    "    idx['date'] = pd.date_range(poolStartDate, poolEndDate)\n",
    "    idx['date'] = idx['date'].astype(str).str[:10]\n",
    "    \n",
    "    merged = pd.merge(idx, t, left_on='date', right_on='date', how='outer')\n",
    "    merged['shellsTransfered'] = merged['shellsTransfered'].fillna(0)\n",
    "    merged['shellsTransfered'] = merged['shellsTransfered'].rolling(30).mean()\n",
    "    merged = merged.set_index('date')\n",
    "    \n",
    "    sns.set(font_scale=1.4)\n",
    "    merged.plot(figsize=(12, 10), linewidth=2.5, color='blue')\n",
    "    plt.xlabel(\"Date\", labelpad=15)\n",
    "    plt.xticks(rotation=30)\n",
    "    plt.ylabel(\"Shells Transfered\", labelpad=15)\n",
    "    plt.gca().yaxis.set_major_formatter(StrMethodFormatter('{x:,.0f}'))\n",
    "    plt.title(\"Shells Transfered Between People Over Time (30-day Moving Average)\", y=1.02, fontsize=22)\n",
    "\n",
    "\n",
    "def plotTokenDays(_withdrawalsDF, _depositsDF, _shellTransfersDF, metric, poolStartDate, poolEndDate):\n",
    "    w = _withdrawalsDF\n",
    "    w['date'] = w['timestamp'].apply(convertToDate)\n",
    "    w = w[(w['date']>=poolStartDate)&(w['date']<=poolEndDate)]\n",
    "    w = w.drop(columns=['id', 'block', 'timestamp']).groupby(['date', 'user']).sum()\n",
    "    w = w.reset_index()\n",
    "    \n",
    "    d = _depositsDF\n",
    "    d['date'] = d['timestamp'].apply(convertToDate)\n",
    "    d = d[(d['date']>=poolStartDate)&(d['date']<=poolEndDate)]\n",
    "    d = d.drop(columns=['id', 'block', 'timestamp']).groupby(['date', 'user']).sum()\n",
    "    d = d.reset_index()\n",
    "    \n",
    "    tFrom = _shellTransfersDF\n",
    "    tFrom['date'] = tFrom['timestamp'].apply(convertToDate)\n",
    "    tFrom = tFrom[(tFrom['date']>=poolStartDate)&(tFrom['date']<=poolEndDate)]\n",
    "    tFrom = tFrom.drop(columns=['id', 'block', 'to', 'timestamp']).groupby(['date', 'from']).sum()\n",
    "    tFrom = tFrom.rename(columns={'shellsTransfered': 'shellsSent'})\n",
    "    \n",
    "    tTo = _shellTransfersDF\n",
    "    tTo = tTo.rename(columns={'shellsTransfered': 'shellsReceived'})\n",
    "    tTo['date'] = tTo['timestamp'].apply(convertToDate)\n",
    "    tTo = tTo[(tTo['date']>=poolStartDate)&(tTo['date']<=poolEndDate)]\n",
    "    tTo = tTo.drop(columns=['id', 'block', 'from', 'timestamp']).groupby(['date', 'to']).sum()\n",
    "    tTo = tTo.rename(columns={'shellsTransfered': 'shellsSent'})\n",
    "    \n",
    "    idx = pd.DataFrame()\n",
    "    idx['date'] = pd.date_range(poolStartDate, poolEndDate)\n",
    "    idx['date'] = idx['date'].astype(str).str[:10]\n",
    "    \n",
    "    merged = pd.merge(idx, w, left_on='date', right_on='date', how='outer')\n",
    "    merged = pd.merge(merged, d, left_on=['date', 'user'], right_on=['date', 'user'], how='outer')\n",
    "    merged = pd.merge(merged, tFrom, left_on=['date', 'user'], right_on=['date', 'from'], how='outer')\n",
    "    merged = pd.merge(merged, tTo, left_on=['date', 'user'], right_on=['date', 'to'], how='outer')\n",
    "    \n",
    "    merged['shellsBurnt'] = merged['shellsBurnt'].fillna(0)\n",
    "    merged['shellsMinted'] = merged['shellsMinted'].fillna(0)\n",
    "    merged['shellsSent'] = merged['shellsSent'].fillna(0)\n",
    "    merged['shellsReceived'] = merged['shellsReceived'].fillna(0)\n",
    "    \n",
    "    merged = merged.groupby(['date', 'user'], dropna=False).sum()\n",
    "    merged = merged.reset_index()\n",
    "   \n",
    "    merged['dailyShells'] = merged['shellsMinted'] + merged['shellsReceived'] - merged['shellsBurnt'] - merged['shellsSent']\n",
    "    merged = merged.drop(columns=['shellsMinted', 'shellsReceived', 'shellsBurnt', 'shellsSent'])\n",
    "    \n",
    "    pivot = merged.pivot(index='date', columns='user', values=['dailyShells']).fillna(0).cumsum()\n",
    "    \n",
    "    if metric == 'Mean':\n",
    "        calculation = pivot.mean(axis=1)\n",
    "    elif metric == 'Median':\n",
    "        calculation = pivot.median(axis=1)\n",
    "    elif metric == 'Percentiles':\n",
    "        calculation = pivot.quantile([.1, .25, .5, .75], axis = 1)\n",
    "        calculation = calculation.T\n",
    "        \n",
    "    sns.set(font_scale=1.4)\n",
    "    calculation.plot(figsize=(12, 10), linewidth=2.5, color='blue')\n",
    "    plt.xlabel(\"Date\", labelpad=15)\n",
    "    plt.xticks(rotation=30)\n",
    "    plt.ylabel(f\"{metric} Tokens\", labelpad=15)\n",
    "    plt.gca().yaxis.set_major_formatter(StrMethodFormatter('{x:,.1f}'))\n",
    "    plt.title(f\"{metric} Token Days Over Time\", y=1.02, fontsize=22)\n",
    "    \n",
    "    \n",
    "def percentageOfTokenDays(_withdrawalsDF, _depositsDF, _shellTransfersDF, poolStartDate, poolEndDate):\n",
    "    w = _withdrawalsDF\n",
    "    w['date'] = w['timestamp'].apply(convertToDate)\n",
    "    w = w[(w['date']>=poolStartDate)&(w['date']<=poolEndDate)]\n",
    "    w = w.drop(columns=['id', 'block', 'timestamp']).groupby(['date', 'user']).sum()\n",
    "    w = w.reset_index()\n",
    "    \n",
    "    d = _depositsDF\n",
    "    d['date'] = d['timestamp'].apply(convertToDate)\n",
    "    d = d[(d['date']>=poolStartDate)&(d['date']<=poolEndDate)]\n",
    "    d = d.drop(columns=['id', 'block', 'timestamp']).groupby(['date', 'user']).sum()\n",
    "    d = d.reset_index()\n",
    "    \n",
    "    tFrom = _shellTransfersDF[(_shellTransfersDF['to']!='0x000000000000000000000000000000000000dead')]\n",
    "    tFrom['date'] = tFrom['timestamp'].apply(convertToDate)\n",
    "    tFrom = tFrom[(tFrom['date']>=poolStartDate)&(tFrom['date']<=poolEndDate)]\n",
    "    tFrom = tFrom.drop(columns=['id', 'block', 'to', 'timestamp']).groupby(['date', 'from']).sum()\n",
    "    tFrom = tFrom.reset_index().rename(columns={'shellsTransfered': 'shellsSent', 'from': 'user'})\n",
    "\n",
    "    tTo = _shellTransfersDF[(_shellTransfersDF['to']!='0x000000000000000000000000000000000000dead')]\n",
    "    tTo = tTo.rename(columns={'shellsTransfered': 'shellsReceived'})\n",
    "    tTo['date'] = tTo['timestamp'].apply(convertToDate)\n",
    "    tTo = tTo[(tTo['date']>=poolStartDate)&(tTo['date']<=poolEndDate)]\n",
    "    tTo = tTo.drop(columns=['id', 'block', 'from', 'timestamp']).groupby(['date', 'to']).sum()\n",
    "    tTo = tTo.reset_index().rename(columns={'shellsTransfered': 'shellsSent', 'to':'user'})\n",
    "    \n",
    "    idx = pd.DataFrame()\n",
    "    idx['date'] = pd.date_range(poolStartDate, poolEndDate)\n",
    "    idx['date'] = idx['date'].astype(str).str[:10]\n",
    "    \n",
    "    merged = pd.merge(idx, w, left_on='date', right_on='date', how='outer')\n",
    "    merged = pd.merge(merged, d, left_on=['date', 'user'], right_on=['date', 'user'], how='outer')\n",
    "    #return merged\n",
    "    merged = pd.merge(merged, tFrom, on=['date', 'user'], how='outer')\n",
    "    #return merged.iloc[2790:]\n",
    "    merged = pd.merge(merged, tTo, on=['date', 'user'], how='outer')\n",
    "    #return merged\n",
    "    \n",
    "    merged['shellsBurnt'] = merged['shellsBurnt'].fillna(0)\n",
    "    merged['shellsMinted'] = merged['shellsMinted'].fillna(0)\n",
    "    merged['shellsSent'] = merged['shellsSent'].fillna(0)\n",
    "    merged['shellsReceived'] = merged['shellsReceived'].fillna(0)\n",
    "    \n",
    "    merged = merged.groupby(['date', 'user'], dropna=False).sum()\n",
    "    merged = merged.reset_index()\n",
    "   \n",
    "    merged['dailyShells'] = merged['shellsMinted'] + merged['shellsReceived'] - merged['shellsBurnt'] - merged['shellsSent']\n",
    "    #return merged\n",
    "    merged = merged.drop(columns=['shellsMinted', 'shellsReceived', 'shellsBurnt', 'shellsSent'])\n",
    "    \n",
    "    pivot = merged.pivot(index='date', columns='user', values=['dailyShells']).fillna(0).cumsum()\n",
    "    percentage = pivot.div(pivot.sum(axis=1), axis=0)\n",
    "    return percentage\n",
    "\n",
    "\n",
    "def outstandingShells(_withdrawalsDF, _depositsDF, poolStartDate, poolEndDate):\n",
    "    d = _depositsDF\n",
    "    d['date'] = d['timestamp'].apply(convertToDate)\n",
    "    d = d[(d['date']>=poolStartDate)&(d['date']<=poolEndDate)]\n",
    "    d = d['shellsMinted'].sum()\n",
    "    \n",
    "    w = _withdrawalsDF\n",
    "    w['date'] = w['timestamp'].apply(convertToDate)\n",
    "    w = w[(w['date']>=poolStartDate)&(w['date']<=poolEndDate)]\n",
    "    w = w['shellsBurnt'].sum()\n",
    "    \n",
    "    outstandingShells = d - w\n",
    "    return outstandingShells\n",
    "\n",
    "\n",
    "def calculateRewards(percentagesDF, rewardsByPeriod, period):\n",
    "    dailyRewards = rewardsByPeriod/period\n",
    "    rewards = percentagesDF*dailyRewards\n",
    "    summedRewards = rewards.sum(axis=0)\n",
    "    summedRewards = summedRewards[(summedRewards>0)]\n",
    "    return summedRewards\n",
    "\n",
    "\n",
    "def intersectionOfPools(_stablecoinRewards, _btcRewards):\n",
    "    s20 = _stablecoinRewards.nlargest(20).reset_index().drop(columns=['level_0']).set_index('user').rename(columns={0:'Stablecoin Pool'})\n",
    "    b20 = _btcRewards.nlargest(20).reset_index().drop(columns=['level_0']).set_index('user').rename(columns={0:'BTC Pool'})\n",
    "    \n",
    "    intersection = pd.merge(s20, b20, on='user', how='inner')\n",
    "    intersection['total'] = intersection['Stablecoin Pool'] + intersection['BTC Pool']\n",
    "    intersection['Percentage of Total Tokens'] = intersection['total']/(_stablecoinRewards.sum()+_btcRewards.sum())*100\n",
    "    return intersection\n",
    "\n",
    "\n",
    "def getBothRewards(_stablecoinWithdrawalsDF, _stablecoinDepositsDF, _stablecoinShellTransfersDF, \n",
    "                   _btcWithdrawalsDF, _btcDepositsDF, _btcShellTransfersDF, poolStartDate, poolEndDate):\n",
    "\n",
    "    sP = percentageOfTokenDays(_stablecoinWithdrawalsDF, _stablecoinDepositsDF, _stablecoinShellTransfersDF, poolStartDate, poolEndDate)\n",
    "    bP = percentageOfTokenDays(_btcWithdrawalsDF, _btcDepositsDF, _btcShellTransfersDF, poolStartDate, poolEndDate)\n",
    "    \n",
    "    percentageToStablecoin = int(input('What percentage of tokens would you want to allocate to the stablecoin pool?' ))\n",
    "    tokens = int(input('What is the total number of tokens that you want to distribute in a given period? '))\n",
    "    interfal = int(input('How long do you want the period to be in days? '))\n",
    "    sTokens = tokens*(percentageToStablecoin/100)\n",
    "    bTokens = tokens*(1-(percentageToStablecoin/100))\n",
    "    sR = calculateRewards(sP, sTokens, interval).sort_values(ascending=False)\n",
    "    bR = calculateRewards(bP, bTokens, interval).sort_values(ascending=False)\n",
    "    stablecoinRewards = pd.DataFrame(sR).reset_index().drop(columns=['level_0']).rename(columns={0:'Stablecoin Pool'}).set_index('user')\n",
    "    btcRewards = pd.DataFrame(bR).reset_index().drop(columns=['level_0']).rename(columns={0:'BTC Pool'}).set_index('user')\n",
    "    merged = pd.merge(stablecoinRewards, btcRewards, on='user', how='outer').fillna(0)\n",
    "    merged['total'] = merged['Stablecoin Pool'] + merged['BTC Pool']\n",
    "    \n",
    "    return merged\n",
    "\n",
    "\n",
    "def getAllRewards(_stablecoinWithdrawalsDF, _stablecoinDepositsDF, _stablecoinShellTransfersDF, \n",
    "                   _btcWithdrawalsDF, _btcDepositsDF, _btcShellTransfersDF, \n",
    "                   _oStablecoinWithdrawalsDF, _oStablecoinDepositsDF, _oStablecoinShellTransfersDF,\n",
    "                   _oBtcWithdrawalsDF, _oBtcDepositsDF, _oBtcShellTransfersDF,\n",
    "                   oPoolStartDate, oPoolEndDate, cPoolStartDate, cPoolEndDate):\n",
    "\n",
    "    cSP = percentageOfTokenDays(_stablecoinWithdrawalsDF, _stablecoinDepositsDF, _stablecoinShellTransfersDF, cPoolStartDate, cPoolEndDate)\n",
    "    cBP = percentageOfTokenDays(_btcWithdrawalsDF, _btcDepositsDF, _btcShellTransfersDF, cPoolStartDate, cPoolEndDate)\n",
    "    oSP = percentageOfTokenDays(_oStablecoinWithdrawalsDF, _oStablecoinDepositsDF, _oStablecoinShellTransfersDF, oPoolStartDate, oPoolEndDate)\n",
    "    oBP = percentageOfTokenDays(_oBtcWithdrawalsDF, _oBtcDepositsDF, _oBtcShellTransfersDF, oPoolStartDate, oPoolEndDate)\n",
    "    \n",
    "    percentageToStablecoin = int(input('What percentage of tokens would you want to allocate to the stablecoin pool?' ))\n",
    "    tokens = int(input('What is the total number of tokens that you want to distribute in a given period? '))\n",
    "    interfal = int(input('How long do you want the period to be in days? '))\n",
    "    sTokens = tokens*(percentageToStablecoin/100)\n",
    "    bTokens = tokens*(1-(percentageToStablecoin/100))\n",
    "    \n",
    "    cSR = calculateRewards(cSP, sTokens, interval).sort_values(ascending=False)\n",
    "    cBR = calculateRewards(cBP, bTokens, interval).sort_values(ascending=False)\n",
    "    oSR = calculateRewards(oSP, sTokens, interval).sort_values(ascending=False)\n",
    "    oBR = calculateRewards(oBP, bTokens, interval).sort_values(ascending=False)\n",
    "    \n",
    "    currentStablecoinRewards = pd.DataFrame(cSR).reset_index().drop(columns=['level_0']).rename(columns={0:'Stablecoin Pool'}).set_index('user')\n",
    "    currentBtcRewards = pd.DataFrame(cBR).reset_index().drop(columns=['level_0']).rename(columns={0:'BTC Pool'}).set_index('user')\n",
    "    originalStablecoinRewards = pd.DataFrame(oSR).reset_index().drop(columns=['level_0']).rename(columns={0:'Original Stablecoin Pool'}).set_index('user')\n",
    "    originalBtcRewards = pd.DataFrame(oBR).reset_index().drop(columns=['level_0']).rename(columns={0:'Original BTC Pool'}).set_index('user')\n",
    "    \n",
    "    merged = pd.merge(currentStablecoinRewards, currentBtcRewards, on='user', how='outer').fillna(0)\n",
    "    merged = pd.merge(merged, originalStablecoinRewards, on='user', how='outer').fillna(0)\n",
    "    merged = pd.merge(merged, originalBtcRewards, on='user', how='outer').fillna(0)\n",
    "    merged['total'] = merged['Stablecoin Pool'] + merged['BTC Pool'] + merged['Original Stablecoin Pool'] + merged['Original BTC Pool']\n",
    "    \n",
    "    return merged\n",
    "\n",
    "\n",
    "def intersectionOfAllPools(_stablecoinRewards, _btcRewards, _oStableCoinRewards, _oBtcRewards):\n",
    "    cS20 = _stablecoinRewards.nlargest(20).reset_index().drop(columns=['level_0']).set_index('user').rename(columns={0:'Stablecoin Pool'})\n",
    "    cB20 = _btcRewards.nlargest(20).reset_index().drop(columns=['level_0']).set_index('user').rename(columns={0:'BTC Pool'})\n",
    "    oS20 = _oStableCoinRewards.nlargest(20).reset_index().drop(columns=['level_0']).set_index('user').rename(columns={0:'Original Stablecoin Pool'})\n",
    "    oB20 = _oBtcRewards.nlargest(20).reset_index().drop(columns=['level_0']).set_index('user').rename(columns={0:'Original BTC Pool'})\n",
    "    \n",
    "    intersection = pd.merge(cS20, cB20, on='user', how='inner')\n",
    "    intersection = pd.merge(intersection, oS20, on='user', how='inner')\n",
    "    intersection = pd.merge(intersection, oB20, on='user', how='inner')\n",
    "    intersection['total'] = intersection['Stablecoin Pool'] + intersection['BTC Pool'] + intersection['Original Stablecoin Pool'] + intersection['Original BTC Pool']\n",
    "    intersection['Percentage of Total Tokens'] = intersection['total']/(_stablecoinRewards.sum()+_btcRewards.sum()+_oStableCoinRewards.sum()+_oBtcRewards.sum())*100\n",
    "    return intersection\n",
    "\n",
    "\n",
    "def generatePieChart(rewardsSeries):\n",
    "    top10 = pd.DataFrame(rewardsSeries[:10])\n",
    "    other = pd.DataFrame(pd.Series(rewardsSeries[10:].sum())).rename(columns={0:'total'}, index={0: 'Other'}).reset_index().set_index('index')\n",
    "    concat = pd.concat([top10, other], axis=0)\n",
    "    plt.pie(concat['total'], labels=concat.index, labeldistance=None, radius=3, autopct='%1.1f%%')\n",
    "    plt.legend(labels=concat.index, prop={'size': 11}, bbox_to_anchor=(0.0, 0.1))\n",
    "    plt.title('Share of Tokens Distributed of Top 10 Users vs The Rest', pad=180)\n",
    "    plt.show()"
   ]
  },
  {
   "cell_type": "markdown",
   "id": "9d35765f",
   "metadata": {},
   "source": [
    "## Get Data\n",
    "\n",
    "### Code\n",
    "- This part gets the data from the graphs and stores it at dataframes. \n",
    "- Each entity of the liquidity pool has its own dataframe. \n",
    "\n",
    "### Instructions: run the cells below to get the most recent data into the application."
   ]
  },
  {
   "cell_type": "code",
   "execution_count": null,
   "id": "a80268f1",
   "metadata": {},
   "outputs": [],
   "source": [
    "# URLs for each pool\n",
    "stablecoinPool = 'https://api.thegraph.com/subgraphs/name/mhanono27/shell-dai-usdc-usdt-susd'\n",
    "btcPool = 'https://api.thegraph.com/subgraphs/name/mhanono27/shell-wbtc-renbtc-sbtc'\n",
    "oStablecoinPool = 'https://api.thegraph.com/subgraphs/name/mhanono27/shell-dai-usdc-usdt-susd-original'\n",
    "oBtcPool = 'https://api.thegraph.com/subgraphs/name/mhanono27/shell-wbtc-renbtc-sbtc-original'"
   ]
  },
  {
   "cell_type": "code",
   "execution_count": null,
   "id": "4e8acb1b",
   "metadata": {},
   "outputs": [],
   "source": [
    "# Define datetimes for pools\n",
    "currentPoolsStartDate = '2020-12-28'\n",
    "currentPoolsEndDate = datetime.today().strftime('%Y-%m-%d')\n",
    "originalPoolsStartDate = '2020-10-04'\n",
    "originalPoolsEndDate = '2020-12-28'"
   ]
  },
  {
   "cell_type": "code",
   "execution_count": null,
   "id": "86a14f88",
   "metadata": {},
   "outputs": [],
   "source": [
    "# Initialize dataframes for entities (only run once).\n",
    "stablecoinUsersDF = pd.DataFrame()\n",
    "stablecoinShellTransfersDF = pd.DataFrame()\n",
    "stablecoinWithdrawalsDF = pd.DataFrame()\n",
    "stablecoinDepositsDF = pd.DataFrame()\n",
    "\n",
    "btcUsersDF = pd.DataFrame()\n",
    "btcShellTransfersDF = pd.DataFrame()\n",
    "btcWithdrawalsDF = pd.DataFrame()\n",
    "btcDepositsDF = pd.DataFrame()\n",
    "\n",
    "oStablecoinUsersDF = pd.DataFrame()\n",
    "oStablecoinShellTransfersDF = pd.DataFrame()\n",
    "oStablecoinWithdrawalsDF = pd.DataFrame()\n",
    "oStablecoinDepositsDF = pd.DataFrame()\n",
    "\n",
    "oBtcUsersDF = pd.DataFrame()\n",
    "oBtcShellTransfersDF = pd.DataFrame()\n",
    "oBtcWithdrawalsDF = pd.DataFrame()\n",
    "oBtcDepositsDF = pd.DataFrame()"
   ]
  },
  {
   "cell_type": "code",
   "execution_count": null,
   "id": "89590e88",
   "metadata": {},
   "outputs": [],
   "source": [
    "# Update data from stablecoin pool\n",
    "stablecoinUsersDF = updateUserData(stablecoinUsersDF, stablecoinPool)\n",
    "stablecoinShellTransfersDF = updateShellTransfersData(stablecoinShellTransfersDF, stablecoinPool)\n",
    "stablecoinWithdrawalsDF = updateWithdrawalsData(stablecoinWithdrawalsDF, stablecoinPool)\n",
    "stablecoinDepositsDF = updateDepositsData(stablecoinDepositsDF, stablecoinPool)"
   ]
  },
  {
   "cell_type": "code",
   "execution_count": null,
   "id": "4acf78ce",
   "metadata": {},
   "outputs": [],
   "source": [
    "# Update data from BTC pool\n",
    "btcUsersDF = updateUserData(btcUsersDF ,btcPool)\n",
    "btcShellTransfersDF = updateShellTransfersData(btcShellTransfersDF ,btcPool)\n",
    "btcWithdrawalsDF = updateWithdrawalsData(btcWithdrawalsDF ,btcPool)\n",
    "btcDepositsDF = updateDepositsData(btcDepositsDF ,btcPool)"
   ]
  },
  {
   "cell_type": "code",
   "execution_count": null,
   "id": "ef3f2f22",
   "metadata": {},
   "outputs": [],
   "source": [
    "# Update data from original stablecoin pool\n",
    "oStablecoinUsersDF = updateUserData(oStablecoinUsersDF, oStablecoinPool)\n",
    "oStablecoinShellTransfersDF = updateShellTransfersData(oStablecoinShellTransfersDF, oStablecoinPool)\n",
    "oStablecoinWithdrawalsDF = updateWithdrawalsData(oStablecoinWithdrawalsDF, oStablecoinPool)\n",
    "oStablecoinDepositsDF = updateDepositsData(oStablecoinDepositsDF, oStablecoinPool)"
   ]
  },
  {
   "cell_type": "code",
   "execution_count": null,
   "id": "5735c8e4",
   "metadata": {},
   "outputs": [],
   "source": [
    "# Update data from original BTC pool\n",
    "oBtcUsersDF = updateUserData(oBtcUsersDF ,oBtcPool)\n",
    "oBtcShellTransfersDF = updateShellTransfersData(oBtcShellTransfersDF ,oBtcPool)\n",
    "oBtcWithdrawalsDF = updateWithdrawalsData(oBtcWithdrawalsDF ,oBtcPool)\n",
    "oBtcDepositsDF = updateDepositsData(oBtcDepositsDF ,oBtcPool)"
   ]
  },
  {
   "cell_type": "markdown",
   "id": "03a0a9a6",
   "metadata": {},
   "source": [
    "## Stablecoin Pool\n",
    "\n",
    "- Run the cells in order to get the desired results"
   ]
  },
  {
   "cell_type": "markdown",
   "id": "595b5d93",
   "metadata": {},
   "source": [
    "### Supply of Shells Over Time"
   ]
  },
  {
   "cell_type": "code",
   "execution_count": null,
   "id": "d2be0021",
   "metadata": {},
   "outputs": [],
   "source": [
    "createShellsSupplyChart(stablecoinWithdrawalsDF, stablecoinDepositsDF, currentPoolsStartDate, currentPoolsEndDate)"
   ]
  },
  {
   "cell_type": "markdown",
   "id": "62bb0196",
   "metadata": {},
   "source": [
    "### Withdrawals vs Deposits Over Time"
   ]
  },
  {
   "cell_type": "code",
   "execution_count": null,
   "id": "ecd8e630",
   "metadata": {
    "scrolled": false
   },
   "outputs": [],
   "source": [
    "createWithdrawalsVsDepositsChart(stablecoinWithdrawalsDF, stablecoinDepositsDF, currentPoolsStartDate, currentPoolsEndDate)"
   ]
  },
  {
   "cell_type": "markdown",
   "id": "d78ba9fa",
   "metadata": {},
   "source": [
    "### Shells Trasfered Between Wallets Over Time"
   ]
  },
  {
   "cell_type": "code",
   "execution_count": null,
   "id": "e8f29feb",
   "metadata": {
    "scrolled": false
   },
   "outputs": [],
   "source": [
    "getTransferedShellsOverTime(stablecoinShellTransfersDF, currentPoolsStartDate, currentPoolsEndDate)"
   ]
  },
  {
   "cell_type": "markdown",
   "id": "e1ac3647",
   "metadata": {},
   "source": [
    "### MeanToken Days Over Time"
   ]
  },
  {
   "cell_type": "code",
   "execution_count": null,
   "id": "73ad7163",
   "metadata": {},
   "outputs": [],
   "source": [
    "plotTokenDays(stablecoinWithdrawalsDF, stablecoinDepositsDF, stablecoinShellTransfersDF, 'Mean', currentPoolsStartDate, currentPoolsEndDate)"
   ]
  },
  {
   "cell_type": "markdown",
   "id": "c42dcfd6",
   "metadata": {},
   "source": [
    "### Median Token Days Over Time"
   ]
  },
  {
   "cell_type": "code",
   "execution_count": null,
   "id": "7b78b261",
   "metadata": {},
   "outputs": [],
   "source": [
    "plotTokenDays(stablecoinWithdrawalsDF, stablecoinDepositsDF, stablecoinShellTransfersDF, 'Median', currentPoolsStartDate, currentPoolsEndDate)"
   ]
  },
  {
   "cell_type": "markdown",
   "id": "392b2274",
   "metadata": {},
   "source": [
    "### Current Amount Of Outstanding Shells"
   ]
  },
  {
   "cell_type": "code",
   "execution_count": null,
   "id": "5e5a0790",
   "metadata": {},
   "outputs": [],
   "source": [
    "outstandingShells(stablecoinWithdrawalsDF, stablecoinDepositsDF, currentPoolsStartDate, currentPoolsEndDate)"
   ]
  },
  {
   "cell_type": "markdown",
   "id": "ddbaca51",
   "metadata": {},
   "source": [
    "### Percentage of Token Days by User\n",
    "\n",
    "- tokens: Set the amount of tokens that will be given in an interval\n",
    "- interval: the length of time for the interval (days)"
   ]
  },
  {
   "cell_type": "code",
   "execution_count": null,
   "id": "5e837fd6",
   "metadata": {},
   "outputs": [],
   "source": [
    "p = percentageOfTokenDays(stablecoinWithdrawalsDF, stablecoinDepositsDF, stablecoinShellTransfersDF, currentPoolsStartDate, currentPoolsEndDate)"
   ]
  },
  {
   "cell_type": "code",
   "execution_count": null,
   "id": "52293c5e",
   "metadata": {},
   "outputs": [],
   "source": [
    "tokens = int(input('How many tokens would you like to distribute per period? '))\n",
    "interval = int(input('How many days would you like the periods to last? '))\n",
    "print('Continue...')\n",
    "stablecoinRewards = calculateRewards(p, tokens, interval).sort_values(ascending=False)"
   ]
  },
  {
   "cell_type": "code",
   "execution_count": null,
   "id": "a6aa4c72",
   "metadata": {},
   "outputs": [],
   "source": [
    "total = int(stablecoinRewards.sum())\n",
    "print('Total tokens distributed:',total)"
   ]
  },
  {
   "cell_type": "markdown",
   "id": "5394ab33",
   "metadata": {
    "scrolled": false
   },
   "source": [
    "### Top N Users and Their Amount of Tokens"
   ]
  },
  {
   "cell_type": "code",
   "execution_count": null,
   "id": "c2000095",
   "metadata": {},
   "outputs": [],
   "source": [
    "n = int(input('How many top users would you like to see? '))\n",
    "stablecoinRewards[:n]"
   ]
  },
  {
   "cell_type": "markdown",
   "id": "563c7873",
   "metadata": {},
   "source": [
    "### Top % of Users Share of Total Tokens Distributed"
   ]
  },
  {
   "cell_type": "code",
   "execution_count": null,
   "id": "47057915",
   "metadata": {},
   "outputs": [],
   "source": [
    "percentage = int(input('What percentage of users would you like to calculate for? '))\n",
    "users = int(percentage*len(stablecoinRewards)/100)\n",
    "percentageOfTokens = int(stablecoinRewards[:users].sum()/stablecoinRewards.sum()*100)\n",
    "print(f'{percentage}% of users ({users} users) would hold {percentageOfTokens}% of tokens distributed.')"
   ]
  },
  {
   "cell_type": "markdown",
   "id": "ae655f31",
   "metadata": {},
   "source": [
    "### Statistics on Distributed Tokens"
   ]
  },
  {
   "cell_type": "code",
   "execution_count": null,
   "id": "234d931c",
   "metadata": {},
   "outputs": [],
   "source": [
    "print('Mean: ',stablecoinRewards.mean())\n",
    "print('Stdv: ',stablecoinRewards.std())\n",
    "print('Min: ',stablecoinRewards.min())\n",
    "print('Max: ',stablecoinRewards.max())\n",
    "print('\\nPercentiles: ')\n",
    "print('25%:', stablecoinRewards.quantile(.25))\n",
    "print('50%:', stablecoinRewards.quantile(.5))\n",
    "print('75%:', stablecoinRewards.quantile(.75))"
   ]
  },
  {
   "cell_type": "markdown",
   "id": "bee9ae48",
   "metadata": {},
   "source": [
    "### Histogram"
   ]
  },
  {
   "cell_type": "code",
   "execution_count": null,
   "id": "702048e8",
   "metadata": {},
   "outputs": [],
   "source": [
    "stablecoinRewards.hist(bins=np.arange(0,200,10))"
   ]
  },
  {
   "cell_type": "markdown",
   "id": "82cd1c92",
   "metadata": {},
   "source": [
    "### Pie Chart"
   ]
  },
  {
   "cell_type": "code",
   "execution_count": null,
   "id": "d9e4975a",
   "metadata": {},
   "outputs": [],
   "source": [
    "rClean = pd.DataFrame(stablecoinRewards).reset_index().drop(columns=['level_0']).rename(columns={0:'total'}).set_index('user')['total']\n",
    "generatePieChart(rClean)"
   ]
  },
  {
   "cell_type": "markdown",
   "id": "15272d93",
   "metadata": {},
   "source": [
    "## BTC Pool\n",
    "- Run the cells in order to get the desired results"
   ]
  },
  {
   "cell_type": "markdown",
   "id": "3ce1502a",
   "metadata": {},
   "source": [
    "### Supply of Shells Over Time"
   ]
  },
  {
   "cell_type": "code",
   "execution_count": null,
   "id": "ce2e32c3",
   "metadata": {},
   "outputs": [],
   "source": [
    "createShellsSupplyChart(btcWithdrawalsDF, btcDepositsDF, currentPoolsStartDate, currentPoolsEndDate)"
   ]
  },
  {
   "cell_type": "markdown",
   "id": "af29a497",
   "metadata": {},
   "source": [
    "### Withdrawals vs Deposits Over Time"
   ]
  },
  {
   "cell_type": "code",
   "execution_count": null,
   "id": "b121325d",
   "metadata": {
    "scrolled": false
   },
   "outputs": [],
   "source": [
    "createWithdrawalsVsDepositsChart(btcWithdrawalsDF, btcDepositsDF, currentPoolsStartDate, currentPoolsEndDate)"
   ]
  },
  {
   "cell_type": "markdown",
   "id": "5b39d3bf",
   "metadata": {},
   "source": [
    "### Shells Trasfered Between Wallets Over Time"
   ]
  },
  {
   "cell_type": "code",
   "execution_count": null,
   "id": "94d3c0d9",
   "metadata": {
    "scrolled": false
   },
   "outputs": [],
   "source": [
    "getTransferedShellsOverTime(btcShellTransfersDF, currentPoolsStartDate, currentPoolsEndDate)"
   ]
  },
  {
   "cell_type": "markdown",
   "id": "02cb396e",
   "metadata": {},
   "source": [
    "### MeanToken Days Over Time"
   ]
  },
  {
   "cell_type": "code",
   "execution_count": null,
   "id": "d7472b33",
   "metadata": {},
   "outputs": [],
   "source": [
    "plotTokenDays(btcWithdrawalsDF, btcDepositsDF, btcShellTransfersDF, 'Mean', currentPoolsStartDate, currentPoolsEndDate)"
   ]
  },
  {
   "cell_type": "markdown",
   "id": "8b9248ab",
   "metadata": {},
   "source": [
    "### Median Token Days Over Time"
   ]
  },
  {
   "cell_type": "code",
   "execution_count": null,
   "id": "78c91d11",
   "metadata": {},
   "outputs": [],
   "source": [
    "plotTokenDays(btcWithdrawalsDF, btcDepositsDF, btcShellTransfersDF, 'Median', currentPoolsStartDate, currentPoolsEndDate)"
   ]
  },
  {
   "cell_type": "markdown",
   "id": "456dae8d",
   "metadata": {},
   "source": [
    "### Current Amount Of Outstanding Shells"
   ]
  },
  {
   "cell_type": "code",
   "execution_count": null,
   "id": "c8c33c6c",
   "metadata": {},
   "outputs": [],
   "source": [
    "outstandingShells(btcWithdrawalsDF, btcDepositsDF, currentPoolsStartDate, currentPoolsEndDate)"
   ]
  },
  {
   "cell_type": "markdown",
   "id": "9f5dabe1",
   "metadata": {},
   "source": [
    "### Percentage of Token Days by User\n",
    "\n",
    "- tokens: Set the amount of tokens that will be given in an interval\n",
    "- interval: the length of time for the interval (days)"
   ]
  },
  {
   "cell_type": "code",
   "execution_count": null,
   "id": "2c42941f",
   "metadata": {},
   "outputs": [],
   "source": [
    "p = percentageOfTokenDays(btcWithdrawalsDF, btcDepositsDF, btcShellTransfersDF, currentPoolsStartDate, currentPoolsEndDate)"
   ]
  },
  {
   "cell_type": "code",
   "execution_count": null,
   "id": "7d350b77",
   "metadata": {},
   "outputs": [],
   "source": [
    "tokens = int(input('How many tokens would you like to distribute per period? '))\n",
    "interval = int(input('How many days would you like the periods to last? '))\n",
    "print('Continue...')\n",
    "btcRewards = calculateRewards(p, tokens, interval).sort_values(ascending=False)"
   ]
  },
  {
   "cell_type": "code",
   "execution_count": null,
   "id": "954f10cc",
   "metadata": {},
   "outputs": [],
   "source": [
    "total = int(btcRewards.sum())\n",
    "print('Total tokens distributed:',total)"
   ]
  },
  {
   "cell_type": "markdown",
   "id": "2c9081e3",
   "metadata": {
    "scrolled": false
   },
   "source": [
    "### Top N Users and Their Amount of Tokens"
   ]
  },
  {
   "cell_type": "code",
   "execution_count": null,
   "id": "cc1337a9",
   "metadata": {},
   "outputs": [],
   "source": [
    "n = int(input('How many top users would you like to see? ')) \n",
    "btcRewards[:n]"
   ]
  },
  {
   "cell_type": "markdown",
   "id": "4293c076",
   "metadata": {},
   "source": [
    "### Top % of Users Share of Total Tokens Distributed"
   ]
  },
  {
   "cell_type": "code",
   "execution_count": null,
   "id": "4aef7b2b",
   "metadata": {},
   "outputs": [],
   "source": [
    "percentage = int(input('What percentage of users would you like to calculate for? '))\n",
    "users = int(percentage*len(btcRewards)/100)\n",
    "percentageOfTokens = int(btcRewards[:users].sum()/btcRewards.sum()*100)\n",
    "print(f'{percentage}% of users ({users} users) would hold {percentageOfTokens}% of tokens distributed.')"
   ]
  },
  {
   "cell_type": "markdown",
   "id": "fe9a777c",
   "metadata": {},
   "source": [
    "### Statistics on Distributed Tokens"
   ]
  },
  {
   "cell_type": "code",
   "execution_count": null,
   "id": "522d1ded",
   "metadata": {},
   "outputs": [],
   "source": [
    "print('Mean: ',btcRewards.mean())\n",
    "print('Stdv: ',btcRewards.std())\n",
    "print('Min: ',btcRewards.min())\n",
    "print('Max: ',btcRewards.max())\n",
    "print('\\nPercentiles: ')\n",
    "print('25%:', btcRewards.quantile(.25))\n",
    "print('50%:', btcRewards.quantile(.5))\n",
    "print('75%:', btcRewards.quantile(.75))"
   ]
  },
  {
   "cell_type": "markdown",
   "id": "b5f48fb4",
   "metadata": {},
   "source": [
    "### Histogram"
   ]
  },
  {
   "cell_type": "code",
   "execution_count": null,
   "id": "6a34db35",
   "metadata": {},
   "outputs": [],
   "source": [
    "btcRewards.hist(bins=np.arange(0,500,10))"
   ]
  },
  {
   "cell_type": "markdown",
   "id": "60fdb150",
   "metadata": {},
   "source": [
    "### Pie Chart"
   ]
  },
  {
   "cell_type": "code",
   "execution_count": null,
   "id": "73610278",
   "metadata": {
    "scrolled": false
   },
   "outputs": [],
   "source": [
    "rClean = pd.DataFrame(btcRewards).reset_index().drop(columns=['level_0']).rename(columns={0:'total'}).set_index('user')['total']\n",
    "generatePieChart(rClean)"
   ]
  },
  {
   "cell_type": "markdown",
   "id": "708652a1",
   "metadata": {},
   "source": [
    "## Overlap Between Current Stablecoin and BTC Pools\n",
    "- The analysis here is done by combining the retroactive rewards for both pools. \n",
    "- You will be prompted for the different parameters that determine the token distribution. "
   ]
  },
  {
   "cell_type": "code",
   "execution_count": null,
   "id": "f60126ab",
   "metadata": {},
   "outputs": [],
   "source": [
    "combinedPoolRewards = getBothRewards(stablecoinWithdrawalsDF, stablecoinDepositsDF, stablecoinShellTransfersDF, \n",
    "                   btcWithdrawalsDF, btcDepositsDF, btcShellTransfersDF, currentPoolsStartDate, currentPoolsEndDate)\n",
    "currentCombinedRewards = combinedPoolRewards['total'].sort_values(ascending=False)"
   ]
  },
  {
   "cell_type": "markdown",
   "id": "806b5526",
   "metadata": {},
   "source": [
    "### Number of Users Who Appear on Both"
   ]
  },
  {
   "cell_type": "code",
   "execution_count": null,
   "id": "c2fa479a",
   "metadata": {},
   "outputs": [],
   "source": [
    "bothCount = combinedPoolRewards[(combinedPoolRewards['Stablecoin Pool']>0)&(combinedPoolRewards['BTC Pool']>0)]\n",
    "count = len(bothCount)\n",
    "percentageOfTotal = int(len(bothCount)/len(currentCombinedRewards)*100)\n",
    "print(f'{count} users appear in both pools ({percentageOfTotal}% of total).')"
   ]
  },
  {
   "cell_type": "markdown",
   "id": "33b2e535",
   "metadata": {},
   "source": [
    "### Intersection of Users in Top 20 Users for Both Pools "
   ]
  },
  {
   "cell_type": "code",
   "execution_count": null,
   "id": "d327fdc4",
   "metadata": {},
   "outputs": [],
   "source": [
    "intersectionOfPools(stablecoinRewards, btcRewards)"
   ]
  },
  {
   "cell_type": "markdown",
   "id": "32ec811e",
   "metadata": {},
   "source": [
    "### Statistics on Distributed Tokens"
   ]
  },
  {
   "cell_type": "code",
   "execution_count": null,
   "id": "551ce0a2",
   "metadata": {},
   "outputs": [],
   "source": [
    "print('Mean: ',currentCombinedRewards.mean())\n",
    "print('Stdv: ',currentCombinedRewards.std())\n",
    "print('Min: ',currentCombinedRewards.min())\n",
    "print('Max: ',currentCombinedRewards.max())\n",
    "print('\\nPercentiles: ')\n",
    "print('25%:', currentCombinedRewards.quantile(.25))\n",
    "print('50%:', currentCombinedRewards.quantile(.5))\n",
    "print('75%:', currentCombinedRewards.quantile(.75))"
   ]
  },
  {
   "cell_type": "markdown",
   "id": "d134a815",
   "metadata": {},
   "source": [
    "### Histogram"
   ]
  },
  {
   "cell_type": "code",
   "execution_count": null,
   "id": "359602c0",
   "metadata": {},
   "outputs": [],
   "source": [
    "currentCombinedRewards.hist(bins=np.arange(0,100,10))"
   ]
  },
  {
   "cell_type": "markdown",
   "id": "8e63a88c",
   "metadata": {},
   "source": [
    "### Pie Chart"
   ]
  },
  {
   "cell_type": "code",
   "execution_count": null,
   "id": "167e0ac4",
   "metadata": {},
   "outputs": [],
   "source": [
    "generatePieChart(currentCombinedRewards)"
   ]
  },
  {
   "cell_type": "markdown",
   "id": "2dab9628",
   "metadata": {},
   "source": [
    "## Original Stablecoin Pool\n",
    "\n",
    "- Run the cells in order to get the desired results"
   ]
  },
  {
   "cell_type": "markdown",
   "id": "f604d10e",
   "metadata": {},
   "source": [
    "### Supply of Shells Over Time"
   ]
  },
  {
   "cell_type": "code",
   "execution_count": null,
   "id": "da3fdb89",
   "metadata": {},
   "outputs": [],
   "source": [
    "createShellsSupplyChart(oStablecoinWithdrawalsDF, oStablecoinDepositsDF, originalPoolsStartDate, originalPoolsEndDate)"
   ]
  },
  {
   "cell_type": "markdown",
   "id": "afb992f6",
   "metadata": {},
   "source": [
    "### Withdrawals vs Deposits Over Time"
   ]
  },
  {
   "cell_type": "code",
   "execution_count": null,
   "id": "76f46a30",
   "metadata": {
    "scrolled": false
   },
   "outputs": [],
   "source": [
    "createWithdrawalsVsDepositsChart(oStablecoinWithdrawalsDF, oStablecoinDepositsDF, originalPoolsStartDate, originalPoolsEndDate)"
   ]
  },
  {
   "cell_type": "markdown",
   "id": "735481c9",
   "metadata": {},
   "source": [
    "### Shells Trasfered Between Wallets Over Time"
   ]
  },
  {
   "cell_type": "code",
   "execution_count": null,
   "id": "5011289d",
   "metadata": {
    "scrolled": false
   },
   "outputs": [],
   "source": [
    "getTransferedShellsOverTime(oStablecoinShellTransfersDF, originalPoolsStartDate, originalPoolsEndDate)"
   ]
  },
  {
   "cell_type": "markdown",
   "id": "e2843173",
   "metadata": {},
   "source": [
    "### MeanToken Days Over Time"
   ]
  },
  {
   "cell_type": "code",
   "execution_count": null,
   "id": "dcad67ca",
   "metadata": {},
   "outputs": [],
   "source": [
    "plotTokenDays(oStablecoinWithdrawalsDF, oStablecoinDepositsDF, oStablecoinShellTransfersDF, 'Mean', originalPoolsStartDate, originalPoolsEndDate)"
   ]
  },
  {
   "cell_type": "markdown",
   "id": "28a43fc5",
   "metadata": {},
   "source": [
    "### Median Token Days Over Time"
   ]
  },
  {
   "cell_type": "code",
   "execution_count": null,
   "id": "c5d7c7f9",
   "metadata": {},
   "outputs": [],
   "source": [
    "plotTokenDays(oStablecoinWithdrawalsDF, oStablecoinDepositsDF, oStablecoinShellTransfersDF, 'Median', originalPoolsStartDate, originalPoolsEndDate)"
   ]
  },
  {
   "cell_type": "markdown",
   "id": "bfca39c9",
   "metadata": {},
   "source": [
    "### Current Amount Of Outstanding Shells"
   ]
  },
  {
   "cell_type": "code",
   "execution_count": null,
   "id": "959f228f",
   "metadata": {},
   "outputs": [],
   "source": [
    "outstandingShells(oStablecoinWithdrawalsDF, oStablecoinDepositsDF, originalPoolsStartDate, originalPoolsEndDate)"
   ]
  },
  {
   "cell_type": "markdown",
   "id": "969f9717",
   "metadata": {},
   "source": [
    "### Percentage of Token Days by User\n",
    "\n",
    "- tokens: Set the amount of tokens that will be given in an interval\n",
    "- interval: the length of time for the interval (days)"
   ]
  },
  {
   "cell_type": "code",
   "execution_count": null,
   "id": "3ae972a4",
   "metadata": {},
   "outputs": [],
   "source": [
    "p = percentageOfTokenDays(oStablecoinWithdrawalsDF, oStablecoinDepositsDF, oStablecoinShellTransfersDF, originalPoolsStartDate, originalPoolsEndDate)"
   ]
  },
  {
   "cell_type": "code",
   "execution_count": null,
   "id": "8ecd08aa",
   "metadata": {},
   "outputs": [],
   "source": [
    "tokens = int(input('How many tokens would you like to distribute per period? '))\n",
    "interval = int(input('How many days would you like the periods to last? '))\n",
    "print('Continue...')\n",
    "originalStablecoinRewards = calculateRewards(p, tokens, interval).sort_values(ascending=False)"
   ]
  },
  {
   "cell_type": "code",
   "execution_count": null,
   "id": "80be6d88",
   "metadata": {},
   "outputs": [],
   "source": [
    "total = int(originalStablecoinRewards.sum())\n",
    "print('Total tokens distributed:',total)"
   ]
  },
  {
   "cell_type": "markdown",
   "id": "806a2714",
   "metadata": {
    "scrolled": false
   },
   "source": [
    "### Top N Users and Their Amount of Tokens"
   ]
  },
  {
   "cell_type": "code",
   "execution_count": null,
   "id": "bc0c659b",
   "metadata": {},
   "outputs": [],
   "source": [
    "n = int(input('How many top users would you like to see? '))\n",
    "originalStablecoinRewards[:n]"
   ]
  },
  {
   "cell_type": "markdown",
   "id": "b4e2bc27",
   "metadata": {},
   "source": [
    "### Top % of Users Share of Total Tokens Distributed"
   ]
  },
  {
   "cell_type": "code",
   "execution_count": null,
   "id": "4a04d662",
   "metadata": {},
   "outputs": [],
   "source": [
    "percentage = int(input('What percentage of users would you like to calculate for? '))\n",
    "users = int(percentage*len(originalStablecoinRewards)/100)\n",
    "percentageOfTokens = int(originalStablecoinRewards[:users].sum()/originalStablecoinRewards.sum()*100)\n",
    "print(f'{percentage}% of users ({users} users) would hold {percentageOfTokens}% of tokens distributed.')"
   ]
  },
  {
   "cell_type": "markdown",
   "id": "62e087e5",
   "metadata": {},
   "source": [
    "### Statistics on Distributed Tokens"
   ]
  },
  {
   "cell_type": "code",
   "execution_count": null,
   "id": "66286390",
   "metadata": {},
   "outputs": [],
   "source": [
    "print('Mean: ',originalStablecoinRewards.mean())\n",
    "print('Stdv: ',originalStablecoinRewards.std())\n",
    "print('Min: ',originalStablecoinRewards.min())\n",
    "print('Max: ',originalStablecoinRewards.max())\n",
    "print('\\nPercentiles: ')\n",
    "print('25%:', originalStablecoinRewards.quantile(.25))\n",
    "print('50%:', originalStablecoinRewards.quantile(.5))\n",
    "print('75%:', originalStablecoinRewards.quantile(.75))"
   ]
  },
  {
   "cell_type": "markdown",
   "id": "057d698b",
   "metadata": {},
   "source": [
    "### Histogram"
   ]
  },
  {
   "cell_type": "code",
   "execution_count": null,
   "id": "459d6456",
   "metadata": {},
   "outputs": [],
   "source": [
    "originalStablecoinRewards.hist(bins=np.arange(0,200,10))"
   ]
  },
  {
   "cell_type": "markdown",
   "id": "62e059dc",
   "metadata": {},
   "source": [
    "### Pie Chart"
   ]
  },
  {
   "cell_type": "code",
   "execution_count": null,
   "id": "fd59161e",
   "metadata": {},
   "outputs": [],
   "source": [
    "rClean = pd.DataFrame(originalStablecoinRewards).reset_index().drop(columns=['level_0']).rename(columns={0:'total'}).set_index('user')['total']\n",
    "generatePieChart(rClean)"
   ]
  },
  {
   "cell_type": "markdown",
   "id": "91e53680",
   "metadata": {},
   "source": [
    "## Original BTC Pool\n",
    "- Run the cells in order to get the desired results"
   ]
  },
  {
   "cell_type": "markdown",
   "id": "ffacfa1e",
   "metadata": {},
   "source": [
    "### Supply of Shells Over Time"
   ]
  },
  {
   "cell_type": "code",
   "execution_count": null,
   "id": "339eb501",
   "metadata": {},
   "outputs": [],
   "source": [
    "createShellsSupplyChart(oBtcWithdrawalsDF, oBtcDepositsDF, originalPoolsStartDate, originalPoolsEndDate)"
   ]
  },
  {
   "cell_type": "markdown",
   "id": "4077109d",
   "metadata": {},
   "source": [
    "### Withdrawals vs Deposits Over Time"
   ]
  },
  {
   "cell_type": "code",
   "execution_count": null,
   "id": "e7d5017a",
   "metadata": {
    "scrolled": false
   },
   "outputs": [],
   "source": [
    "createWithdrawalsVsDepositsChart(oBtcWithdrawalsDF, oBtcDepositsDF, originalPoolsStartDate, originalPoolsEndDate)"
   ]
  },
  {
   "cell_type": "markdown",
   "id": "e5de9a2e",
   "metadata": {},
   "source": [
    "### Shells Trasfered Between Wallets Over Time"
   ]
  },
  {
   "cell_type": "code",
   "execution_count": null,
   "id": "dab012b3",
   "metadata": {
    "scrolled": false
   },
   "outputs": [],
   "source": [
    "getTransferedShellsOverTime(oBtcShellTransfersDF, originalPoolsStartDate, originalPoolsEndDate)"
   ]
  },
  {
   "cell_type": "markdown",
   "id": "14952cd8",
   "metadata": {},
   "source": [
    "### MeanToken Days Over Time"
   ]
  },
  {
   "cell_type": "code",
   "execution_count": null,
   "id": "4395a1d3",
   "metadata": {},
   "outputs": [],
   "source": [
    "plotTokenDays(oBtcWithdrawalsDF, oBtcDepositsDF, oBtcShellTransfersDF, 'Mean', originalPoolsStartDate, originalPoolsEndDate)"
   ]
  },
  {
   "cell_type": "markdown",
   "id": "aa195fd3",
   "metadata": {},
   "source": [
    "### Median Token Days Over Time"
   ]
  },
  {
   "cell_type": "code",
   "execution_count": null,
   "id": "3f5607f3",
   "metadata": {},
   "outputs": [],
   "source": [
    "plotTokenDays(oBtcWithdrawalsDF, oBtcDepositsDF, oBtcShellTransfersDF, 'Median', originalPoolsStartDate, originalPoolsEndDate)"
   ]
  },
  {
   "cell_type": "markdown",
   "id": "318e85af",
   "metadata": {},
   "source": [
    "### Current Amount Of Outstanding Shells"
   ]
  },
  {
   "cell_type": "code",
   "execution_count": null,
   "id": "4ec2f607",
   "metadata": {},
   "outputs": [],
   "source": [
    "outstandingShells(oBtcWithdrawalsDF, oBtcDepositsDF, originalPoolsStartDate, originalPoolsEndDate)"
   ]
  },
  {
   "cell_type": "markdown",
   "id": "7b171c25",
   "metadata": {},
   "source": [
    "### Percentage of Token Days by User\n",
    "\n",
    "- tokens: Set the amount of tokens that will be given in an interval\n",
    "- interval: the length of time for the interval (days)"
   ]
  },
  {
   "cell_type": "code",
   "execution_count": null,
   "id": "a3766853",
   "metadata": {},
   "outputs": [],
   "source": [
    "p = percentageOfTokenDays(oBtcWithdrawalsDF, oBtcDepositsDF, oBtcShellTransfersDF, originalPoolsStartDate, originalPoolsEndDate)"
   ]
  },
  {
   "cell_type": "code",
   "execution_count": null,
   "id": "593770b3",
   "metadata": {},
   "outputs": [],
   "source": [
    "tokens = int(input('How many tokens would you like to distribute per period? '))\n",
    "interval = int(input('How many days would you like the periods to last? '))\n",
    "print('Continue...')\n",
    "originalBtcRewards = calculateRewards(p, tokens, interval).sort_values(ascending=False)"
   ]
  },
  {
   "cell_type": "code",
   "execution_count": null,
   "id": "7dc76e46",
   "metadata": {},
   "outputs": [],
   "source": [
    "total = int(originalBtcRewards.sum())\n",
    "print('Total tokens distributed:',total)"
   ]
  },
  {
   "cell_type": "markdown",
   "id": "918613a9",
   "metadata": {
    "scrolled": false
   },
   "source": [
    "### Top N Users and Their Amount of Tokens"
   ]
  },
  {
   "cell_type": "code",
   "execution_count": null,
   "id": "5f50bd76",
   "metadata": {},
   "outputs": [],
   "source": [
    "n = int(input('How many top users would you like to see? '))\n",
    "originalBtcRewards[:n]"
   ]
  },
  {
   "cell_type": "markdown",
   "id": "1b558913",
   "metadata": {},
   "source": [
    "### Top % of Users Share of Total Tokens Distributed"
   ]
  },
  {
   "cell_type": "code",
   "execution_count": null,
   "id": "ce98a9f8",
   "metadata": {},
   "outputs": [],
   "source": [
    "percentage = int(input('What percentage of users would you like to calculate for? '))\n",
    "users = int(percentage*len(originalBtcRewards)/100)\n",
    "percentageOfTokens = int(originalBtcRewards[:users].sum()/originalBtcRewards.sum()*100)\n",
    "print(f'{percentage}% of users ({users} users) would hold {percentageOfTokens}% of tokens distributed.')"
   ]
  },
  {
   "cell_type": "markdown",
   "id": "9ea1d385",
   "metadata": {},
   "source": [
    "### Statistics on Distributed Tokens"
   ]
  },
  {
   "cell_type": "code",
   "execution_count": null,
   "id": "463bc1ef",
   "metadata": {},
   "outputs": [],
   "source": [
    "print('Mean: ',originalBtcRewards.mean())\n",
    "print('Stdv: ',originalBtcRewards.std())\n",
    "print('Min: ',originalBtcRewards.min())\n",
    "print('Max: ',originalBtcRewards.max())\n",
    "print('\\nPercentiles: ')\n",
    "print('25%:', originalBtcRewards.quantile(.25))\n",
    "print('50%:', originalBtcRewards.quantile(.5))\n",
    "print('75%:', originalBtcRewards.quantile(.75))"
   ]
  },
  {
   "cell_type": "markdown",
   "id": "b88ddd41",
   "metadata": {},
   "source": [
    "### Histogram"
   ]
  },
  {
   "cell_type": "code",
   "execution_count": null,
   "id": "ad80db66",
   "metadata": {},
   "outputs": [],
   "source": [
    "originalBtcRewards.hist(bins=np.arange(0,500,10))"
   ]
  },
  {
   "cell_type": "markdown",
   "id": "624bce6a",
   "metadata": {},
   "source": [
    "### Pie Chart"
   ]
  },
  {
   "cell_type": "code",
   "execution_count": null,
   "id": "10740847",
   "metadata": {},
   "outputs": [],
   "source": [
    "rClean = pd.DataFrame(originalBtcRewards).reset_index().drop(columns=['level_0']).rename(columns={0:'total'}).set_index('user')['total']\n",
    "generatePieChart(rClean)"
   ]
  },
  {
   "cell_type": "markdown",
   "id": "ddf82b5b",
   "metadata": {},
   "source": [
    "## Overlap Between Original Stablecoin and BTC Pools\n",
    "- The analysis here is done by combining the retroactive rewards for both pools. \n",
    "- You will be prompted for the different parameters that determine the token distribution. "
   ]
  },
  {
   "cell_type": "code",
   "execution_count": null,
   "id": "2fdc061b",
   "metadata": {},
   "outputs": [],
   "source": [
    "combinedPoolRewards = getBothRewards(oStablecoinWithdrawalsDF, oStablecoinDepositsDF, oStablecoinShellTransfersDF, \n",
    "                   oBtcWithdrawalsDF, oBtcDepositsDF, oBtcShellTransfersDF, originalPoolsStartDate, originalPoolsEndDate)\n",
    "originalCombinedRewards = combinedPoolRewards['total'].sort_values(ascending=False)"
   ]
  },
  {
   "cell_type": "markdown",
   "id": "08bdd033",
   "metadata": {},
   "source": [
    "### Number of Users Who Appear on Both"
   ]
  },
  {
   "cell_type": "code",
   "execution_count": null,
   "id": "5d225341",
   "metadata": {},
   "outputs": [],
   "source": [
    "bothCount = combinedPoolRewards[(combinedPoolRewards['Stablecoin Pool']>0)&(combinedPoolRewards['BTC Pool']>0)]\n",
    "count = len(bothCount)\n",
    "percentageOfTotal = int(len(bothCount)/len(originalCombinedRewards)*100)\n",
    "print(f'{count} users appear in both pools ({percentageOfTotal}% of total).')"
   ]
  },
  {
   "cell_type": "markdown",
   "id": "d18ec23e",
   "metadata": {},
   "source": [
    "### Intersection of Users in Top 20 Users for Both Pools "
   ]
  },
  {
   "cell_type": "code",
   "execution_count": null,
   "id": "fb8c3794",
   "metadata": {},
   "outputs": [],
   "source": [
    "intersectionOfPools(originalStablecoinRewards, originalBtcRewards)"
   ]
  },
  {
   "cell_type": "markdown",
   "id": "5a58e5c9",
   "metadata": {},
   "source": [
    "### Statistics on Distributed Tokens"
   ]
  },
  {
   "cell_type": "code",
   "execution_count": null,
   "id": "9327707b",
   "metadata": {},
   "outputs": [],
   "source": [
    "print('Mean: ',originalCombinedRewards.mean())\n",
    "print('Stdv: ',originalCombinedRewards.std())\n",
    "print('Min: ',originalCombinedRewards.min())\n",
    "print('Max: ',originalCombinedRewards.max())\n",
    "print('\\nPercentiles: ')\n",
    "print('25%:', originalCombinedRewards.quantile(.25))\n",
    "print('50%:', originalCombinedRewards.quantile(.5))\n",
    "print('75%:', originalCombinedRewards.quantile(.75))"
   ]
  },
  {
   "cell_type": "markdown",
   "id": "36f0e205",
   "metadata": {},
   "source": [
    "### Histogram"
   ]
  },
  {
   "cell_type": "code",
   "execution_count": null,
   "id": "9dd4d134",
   "metadata": {},
   "outputs": [],
   "source": [
    "originalCombinedRewards.hist(bins=np.arange(0,100,10))"
   ]
  },
  {
   "cell_type": "markdown",
   "id": "c0b4785b",
   "metadata": {},
   "source": [
    "### Pie Chart"
   ]
  },
  {
   "cell_type": "code",
   "execution_count": null,
   "id": "506315fa",
   "metadata": {},
   "outputs": [],
   "source": [
    "generatePieChart(originalCombinedRewards)"
   ]
  },
  {
   "cell_type": "markdown",
   "id": "381f59b0",
   "metadata": {},
   "source": [
    "## Overlap Between Complete Stablecoin and BTC Pools\n",
    "- The analysis here is done by combining the retroactive rewards for both pools. \n",
    "- You will be prompted for the different parameters that determine the token distribution. "
   ]
  },
  {
   "cell_type": "code",
   "execution_count": null,
   "id": "8b4b4ad5",
   "metadata": {},
   "outputs": [],
   "source": [
    "combinedPoolRewards = getAllRewards(stablecoinWithdrawalsDF, stablecoinDepositsDF, stablecoinShellTransfersDF, \n",
    "                                   btcWithdrawalsDF, btcDepositsDF, btcShellTransfersDF, \n",
    "                                   oStablecoinWithdrawalsDF, oStablecoinDepositsDF, oStablecoinShellTransfersDF,\n",
    "                                   oBtcWithdrawalsDF, oBtcDepositsDF, oBtcShellTransfersDF,\n",
    "                                   originalPoolsStartDate, originalPoolsEndDate, currentPoolsStartDate, currentPoolsEndDate)\n",
    "allCombinedRewards = combinedPoolRewards['total'].sort_values(ascending=False)"
   ]
  },
  {
   "cell_type": "markdown",
   "id": "dd5cec20",
   "metadata": {},
   "source": [
    "###### Number of Users Who Appear on Both"
   ]
  },
  {
   "cell_type": "code",
   "execution_count": null,
   "id": "15756227",
   "metadata": {},
   "outputs": [],
   "source": [
    "bothCount = combinedPoolRewards[(combinedPoolRewards['Stablecoin Pool']>0)&(combinedPoolRewards['BTC Pool']>0)]\n",
    "count = len(bothCount)\n",
    "percentageOfTotal = int(len(bothCount)/len(allCombinedRewards)*100)\n",
    "print(f'{count} users appear in all pools ({percentageOfTotal}% of total).')"
   ]
  },
  {
   "cell_type": "markdown",
   "id": "7af77d68",
   "metadata": {},
   "source": [
    "### Intersection of Users in Top 20 Users for Both Pools "
   ]
  },
  {
   "cell_type": "code",
   "execution_count": null,
   "id": "21b13408",
   "metadata": {},
   "outputs": [],
   "source": [
    "intersectionOfAllPools(stablecoinRewards, btcRewards, originalStablecoinRewards, originalBtcRewards)"
   ]
  },
  {
   "cell_type": "markdown",
   "id": "b1e867f8",
   "metadata": {},
   "source": [
    "### Statistics on Distributed Tokens"
   ]
  },
  {
   "cell_type": "code",
   "execution_count": null,
   "id": "71e3603a",
   "metadata": {},
   "outputs": [],
   "source": [
    "print('Mean: ',allCombinedRewards.mean())\n",
    "print('Stdv: ',allCombinedRewards.std())\n",
    "print('Min: ',allCombinedRewards.min())\n",
    "print('Max: ',allCombinedRewards.max())\n",
    "print('\\nPercentiles: ')\n",
    "print('25%:', allCombinedRewards.quantile(.25))\n",
    "print('50%:', allCombinedRewards.quantile(.5))\n",
    "print('75%:', allCombinedRewards.quantile(.75))"
   ]
  },
  {
   "cell_type": "markdown",
   "id": "718a5138",
   "metadata": {},
   "source": [
    "### Histogram"
   ]
  },
  {
   "cell_type": "code",
   "execution_count": null,
   "id": "8588e3de",
   "metadata": {},
   "outputs": [],
   "source": [
    "allCombinedRewards.hist(bins=np.arange(0,100,10))"
   ]
  },
  {
   "cell_type": "markdown",
   "id": "36be6679",
   "metadata": {},
   "source": [
    "### Pie Chart"
   ]
  },
  {
   "cell_type": "code",
   "execution_count": null,
   "id": "660c0e2d",
   "metadata": {},
   "outputs": [],
   "source": [
    "generatePieChart(allCombinedRewards)"
   ]
  }
 ],
 "metadata": {
  "kernelspec": {
   "display_name": "Python 3",
   "language": "python",
   "name": "python3"
  },
  "language_info": {
   "codemirror_mode": {
    "name": "ipython",
    "version": 3
   },
   "file_extension": ".py",
   "mimetype": "text/x-python",
   "name": "python",
   "nbconvert_exporter": "python",
   "pygments_lexer": "ipython3",
   "version": "3.8.8"
  }
 },
 "nbformat": 4,
 "nbformat_minor": 5
}
